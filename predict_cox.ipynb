{
 "cells": [
  {
   "cell_type": "code",
   "execution_count": 4,
   "id": "e6c9bf86-7131-45c6-a3fb-5cc7a6fdb072",
   "metadata": {},
   "outputs": [],
   "source": [
    "\"\"\"\n",
    "Sample from a trained model\n",
    "\"\"\"\n",
    "import re, sys\n",
    "from tqdm import tqdm\n",
    "import os\n",
    "import pickle\n",
    "#from contextlib import nullcontext\n",
    "import torch\n",
    "#import tiktoken\n",
    "from model_ukb import GPTConfig, GPT\n",
    "import pandas as pd\n",
    "import numpy as np\n",
    "import matplotlib.pyplot as plt\n",
    "from torch.nn import functional as F\n",
    "# -----------------------------------------------------------------------------\n",
    "init_from = 'resume' # either 'resume' (from an out_dir) or a gpt2 variant (e.g. 'gpt2-xl')\n",
    "out_dir = 'out-ukb' # ignored if init_from is not 'resume'\n",
    "start = \"\\n\" # or \"<|endoftext|>\" or etc. Can also specify a file, use as: \"FILE:prompt.txt\"\n",
    "num_samples = 10 # number of samples to draw\n",
    "max_new_tokens = 10 # number of tokens generated in each sample\n",
    "temperature = 0.8 # 1.0 = no change, < 1.0 = less random, > 1.0 = more random, in predictions\n",
    "top_k = 200 # retain only the top_k most likely tokens, clamp others to have 0 probability\n",
    "seed = 1337\n",
    "device = 'cpu' # examples: 'cpu', 'cuda', 'cuda:0', 'cuda:1', etc.\n",
    "dtype ='float64'#'bfloat16' # 'float32' or 'bfloat16' or 'float16'\n",
    "compile = False # use PyTorch 2.0 to compile the model to be faster\n",
    "t_min = 100.0\n",
    "#exec(open('configurator.py').read()) # overrides from command line or config file\n",
    "# -----------------------------------------------------------------------------\n",
    "\n",
    "torch.manual_seed(seed)\n",
    "torch.cuda.manual_seed(seed)\n",
    "torch.backends.cuda.matmul.allow_tf32 = True # allow tf32 on matmul\n",
    "torch.backends.cudnn.allow_tf32 = True # allow tf32 on cudnn\n",
    "device_type = 'cuda' if 'cuda' in device else 'cpu' # for later use in torch.autocast\n",
    "ptdtype = {'float32': torch.float32, 'float64': torch.float64, 'bfloat16': torch.bfloat16, 'float16': torch.float16}[dtype]\n",
    "#ctx = nullcontext() if device_type == 'cpu' else torch.amp.autocast(device_type=device_type, dtype=ptdtype)\n",
    "load_meta=True\n",
    "meta_path='data/ukb/meta.pkl'"
   ]
  },
  {
   "cell_type": "code",
   "execution_count": 5,
   "id": "fc63397c-f3c2-400d-a253-4e3b7c8480c0",
   "metadata": {},
   "outputs": [],
   "source": [
    "sys.path.append('/nfs/research/sds/sds-ukb-cancer/projects/gpt/CancerRisk-main/model')\n",
    "from m1 import predictor"
   ]
  },
  {
   "cell_type": "code",
   "execution_count": 6,
   "id": "30b429fb-505d-47b3-8b56-4a2ba6fe7d01",
   "metadata": {},
   "outputs": [
    {
     "data": {
      "text/html": [
       "<div>\n",
       "<style scoped>\n",
       "    .dataframe tbody tr th:only-of-type {\n",
       "        vertical-align: middle;\n",
       "    }\n",
       "\n",
       "    .dataframe tbody tr th {\n",
       "        vertical-align: top;\n",
       "    }\n",
       "\n",
       "    .dataframe thead th {\n",
       "        text-align: right;\n",
       "    }\n",
       "</style>\n",
       "<table border=\"1\" class=\"dataframe\">\n",
       "  <thead>\n",
       "    <tr style=\"text-align: right;\">\n",
       "      <th></th>\n",
       "      <th>0</th>\n",
       "    </tr>\n",
       "  </thead>\n",
       "  <tbody>\n",
       "    <tr>\n",
       "      <th>0</th>\n",
       "      <td>Padding</td>\n",
       "    </tr>\n",
       "    <tr>\n",
       "      <th>1</th>\n",
       "      <td>Healthy</td>\n",
       "    </tr>\n",
       "    <tr>\n",
       "      <th>2</th>\n",
       "      <td>Female</td>\n",
       "    </tr>\n",
       "    <tr>\n",
       "      <th>3</th>\n",
       "      <td>Male</td>\n",
       "    </tr>\n",
       "    <tr>\n",
       "      <th>4</th>\n",
       "      <td>BMI_low</td>\n",
       "    </tr>\n",
       "    <tr>\n",
       "      <th>...</th>\n",
       "      <td>...</td>\n",
       "    </tr>\n",
       "    <tr>\n",
       "      <th>1265</th>\n",
       "      <td>D46 Myelodysplastic syndromes</td>\n",
       "    </tr>\n",
       "    <tr>\n",
       "      <th>1266</th>\n",
       "      <td>D47 Other neoplasms of uncertain or unknown be...</td>\n",
       "    </tr>\n",
       "    <tr>\n",
       "      <th>1267</th>\n",
       "      <td>D48 Neoplasm of uncertain or unknown behaviour...</td>\n",
       "    </tr>\n",
       "    <tr>\n",
       "      <th>1268</th>\n",
       "      <td>O01 Hydatidiform mole38</td>\n",
       "    </tr>\n",
       "    <tr>\n",
       "      <th>1269</th>\n",
       "      <td>Death</td>\n",
       "    </tr>\n",
       "  </tbody>\n",
       "</table>\n",
       "<p>1270 rows × 1 columns</p>\n",
       "</div>"
      ],
      "text/plain": [
       "                                                      0\n",
       "0                                               Padding\n",
       "1                                               Healthy\n",
       "2                                                Female\n",
       "3                                                  Male\n",
       "4                                               BMI_low\n",
       "...                                                 ...\n",
       "1265                      D46 Myelodysplastic syndromes\n",
       "1266  D47 Other neoplasms of uncertain or unknown be...\n",
       "1267  D48 Neoplasm of uncertain or unknown behaviour...\n",
       "1268                            O01 Hydatidiform mole38\n",
       "1269                                              Death\n",
       "\n",
       "[1270 rows x 1 columns]"
      ]
     },
     "execution_count": 6,
     "metadata": {},
     "output_type": "execute_result"
    }
   ],
   "source": [
    "labels = pd.read_csv(\"data/ukb/labels.csv\", header=None, sep=\"\\t\")\n",
    "labels"
   ]
  },
  {
   "cell_type": "code",
   "execution_count": 107,
   "id": "72c63849-e4d7-4388-92b5-64a6047f634e",
   "metadata": {},
   "outputs": [],
   "source": [
    "pre = np.fromfile('/nfs/research/sds/sds-ukb-cancer/projects/gpt/data/pre.bin', dtype=np.uint32).reshape(-1,3)"
   ]
  },
  {
   "cell_type": "code",
   "execution_count": 108,
   "id": "59140ea1-1c60-4e26-85ad-687120d5bcf2",
   "metadata": {},
   "outputs": [],
   "source": [
    "def get_p2i(data):\n",
    "    px = data[:,0].astype('int')\n",
    "    pix = sorted(list(set(px)))\n",
    "    #p2i = np.array([(p, (px==p).argmax(), (px==p).sum()) for i,p in enumerate(pix)])\n",
    "    p2i = []\n",
    "    j = 0\n",
    "    q = px[0]\n",
    "    for i,p in enumerate(px):\n",
    "        if p != q:\n",
    "            p2i.append([j,i-j])\n",
    "            q = p\n",
    "            j = i\n",
    "    return np.array(p2i)"
   ]
  },
  {
   "cell_type": "code",
   "execution_count": 109,
   "id": "5a099c88-02d0-4912-9a8c-009e269661c7",
   "metadata": {},
   "outputs": [],
   "source": [
    "pre_p2i = get_p2i(pre)\n"
   ]
  },
  {
   "cell_type": "code",
   "execution_count": 110,
   "id": "70a2fc86-9bd7-4eb7-8941-0e487fb1d6fd",
   "metadata": {},
   "outputs": [],
   "source": [
    "pre[:, -1] += 1"
   ]
  },
  {
   "cell_type": "code",
   "execution_count": 69,
   "id": "527719f5-f09c-4561-8873-9f50470a5ea2",
   "metadata": {},
   "outputs": [
    {
     "name": "stderr",
     "output_type": "stream",
     "text": [
      "100%|██████████████████████████████████████████████████████████████████████████████████████████████████████████████████████████████████████████████████████████████████████████████████████████████████████████████████████████████████████| 471057/471057 [00:20<00:00, 22916.48it/s]\n"
     ]
    }
   ],
   "source": [
    "age = []\n",
    "sex = []\n",
    "for ii in tqdm(range(pre_p2i.shape[0])):\n",
    "    x = pre[pre_p2i[ii, 0]:pre_p2i[ii, 0]+pre_p2i[ii, 1], 2].astype(int)\n",
    "    a = pre[pre_p2i[ii, 0]:pre_p2i[ii, 0]+pre_p2i[ii, 1], 1].astype(np.float32)\n",
    "    assert np.logical_or(np.any(x==3), np.any(x==2))\n",
    "    sex.extend([np.any(x==3).astype(int)])   \n",
    "    age.extend([a[-1]])\n",
    "sex = np.asarray(sex).astype(int)\n",
    "age = np.asarray(age).astype(int)"
   ]
  },
  {
   "cell_type": "code",
   "execution_count": 70,
   "id": "f3d7fa77-d96a-45fd-9386-79e656356037",
   "metadata": {},
   "outputs": [
    {
     "name": "stdout",
     "output_type": "stream",
     "text": [
      "0 oesophagus\n",
      "1 stomach\n",
      "2 colorectal\n",
      "3 liver\n",
      "4 pancreas\n",
      "5 lung\n",
      "6 melanoma\n",
      "7 breast\n",
      "8 cervix_uteri\n",
      "9 corpus_uteri\n",
      "10 ovary\n",
      "11 prostate\n",
      "12 testis\n",
      "13 kidney\n",
      "14 bladder\n",
      "15 brain\n",
      "16 thyroid\n",
      "17 non_hodgkin_lymphoma\n",
      "18 multiple_myeloma\n",
      "19 AML\n",
      "20 other\n",
      "21 death\n"
     ]
    }
   ],
   "source": [
    "\n",
    "cr_dir = '/nfs/research/sds/sds-ukb-cancer/projects/gpt/CancerRisk-main/'\n",
    "\n",
    "events = ['oesophagus', 'stomach', 'colorectal', 'liver', 'pancreas', 'lung', 'melanoma', 'breast',\n",
    "          'cervix_uteri', 'corpus_uteri', 'ovary', 'prostate', 'testis', 'kidney', 'bladder', 'brain',\n",
    "            'thyroid', 'non_hodgkin_lymphoma', 'multiple_myeloma', 'AML', 'other', 'death']\n",
    "\n",
    "coxCcodes = ['C15','C16','C18','C22','C25','C34','C43','C50','C53','C54','C56','C61','C62','C64','C65','C70','C73','C82','C90','C91']\n",
    "\n",
    "for cc in range(22):\n",
    "    print(cc, events[cc])\n",
    "\n",
    "disease_codes = np.load(cr_dir + 'model/disease_codes.npy', allow_pickle=True)\n",
    "\n",
    "gene_names = np.asarray([jj+ii for jj in events[:20] for ii in [' First Degree', ' All', ' Multiple', ' Early']])\n",
    "\n",
    "bth_names = np.asarray(['Alcoholic', 'Smoker', 'High Blood Pressure', 'Low Blood Pressure', 'Height', 'Weight', 'Age at first Birth'])\n",
    "\n",
    "dtype = torch.FloatTensor\n",
    "\n",
    "column_headers = np.concatenate((disease_codes[:, 1], gene_names, bth_names)) # covaraite ordering\n"
   ]
  },
  {
   "cell_type": "code",
   "execution_count": 71,
   "id": "723713a2-cfed-4412-8335-a35356f591e9",
   "metadata": {},
   "outputs": [],
   "source": [
    "class CIF():\n",
    "    def __init__(self, cc, tt0, tt_range, A0, pred, sex, full=False, **kwds):\n",
    "        self.cc = cc\n",
    "        self.tt0 = tt0\n",
    "        self.tt_range = tt_range\n",
    "        self.A0 = A0\n",
    "        self.pred = pred\n",
    "        self.sex = sex\n",
    "        self.full = full # including all otherwise only the 20 major cancer types are considered\n",
    "        self.sexnames = ['female', 'male']\n",
    "\n",
    "    def __call__(self, ii):\n",
    "        A0net = np.sum((self.A0[:, self.sex[ii], self.tt0[ii]:self.tt0[ii]+self.tt_range]*np.exp(self.pred[ii, :, None])), axis=0)\n",
    "        S0net = np.exp(-np.cumsum(A0net))\n",
    "        if self.full:\n",
    "            pest = np.cumsum(self.A0[:20, self.sex[ii], self.tt0[ii]:self.tt0[ii]+self.tt_range]*np.exp(self.pred[ii, :20, None]) * S0net[None, :], axis=1)[:, -1].sum()\n",
    "        else:\n",
    "            pest = np.cumsum(self.A0[self.cc, self.sex[ii], self.tt0[ii]:self.tt0[ii]+self.tt_range] * np.exp(self.pred[ii, self.cc, None]) * S0net)[-1]\n",
    "        return([pest])"
   ]
  },
  {
   "cell_type": "code",
   "execution_count": 72,
   "id": "536d23a5-5005-4da5-a980-cabea1bd2c30",
   "metadata": {},
   "outputs": [],
   "source": [
    "A0 = np.load(cr_dir + 'model/breslow.npy')\n",
    "theta = pd.read_csv(cr_dir + 'model/theta.csv')\n",
    "theta = np.asarray(theta.iloc[:, 2:68:3])"
   ]
  },
  {
   "cell_type": "code",
   "execution_count": 111,
   "id": "201360f4-a23a-46a1-9e43-100c743b7c83",
   "metadata": {},
   "outputs": [],
   "source": [
    "labels_short = np.asarray(labels).astype('S3').astype(str)"
   ]
  },
  {
   "cell_type": "code",
   "execution_count": 74,
   "id": "97e2bd7a-a422-40ae-af05-5c286d70cbdb",
   "metadata": {},
   "outputs": [
    {
     "name": "stderr",
     "output_type": "stream",
     "text": [
      "100%|██████████████████████████████████████████████████████████████████████████████████████████████████████████████████████████████████████████████████████████████████████████████████████████████████████████████████████████████████████| 471057/471057 [00:37<00:00, 12607.88it/s]\n"
     ]
    }
   ],
   "source": [
    "# hazard\n",
    "N = pre_p2i.shape[0]\n",
    "coxmap = [np.where(disease_codes[:, 0] == kk)[0].tolist() for kk in np.asarray(labels_short)[:, 0]]\n",
    "X = np.zeros((N, 1392))\n",
    "aa = []\n",
    "\n",
    "for ii in tqdm(range(N)):\n",
    "    with torch.no_grad():\n",
    "        a = pre[pre_p2i[ii, 0]:pre_p2i[ii, 0]+pre_p2i[ii, 1]][:,1][None, :].astype('float32')\n",
    "        x = pre[pre_p2i[ii, 0]:pre_p2i[ii, 0]+pre_p2i[ii, 1]][:,2][None, :].astype('float32')\n",
    "        for jj in x[0, :].astype(int):\n",
    "            if coxmap[jj] != []:\n",
    "                X[ii, coxmap[jj][0]] = 1\n",
    "        X[ii, -6] = np.any(x[0, :]==9).astype(int)\n",
    "        X[ii, -7] = np.any(x[0, :]==12).astype(int)\n",
    "        aa.extend([np.max(a).tolist()])\n",
    "\n",
    "coxpred = np.matmul(X, theta)\n",
    "aa = np.asarray(aa).astype(int)\n"
   ]
  },
  {
   "cell_type": "code",
   "execution_count": null,
   "id": "c57caeda-739b-4f66-b90b-8a17c35161eb",
   "metadata": {},
   "outputs": [],
   "source": [
    "# absolute risk\n",
    "#=======================================================================================================================\n",
    "risk = []\n",
    "for ii in tqdm(range(N)):\n",
    "    rr = []\n",
    "    for cc in range(20): # loop over each cancer\n",
    "        cif_ = CIF(cc=cc, tt0=np.minimum(82*365, np.asarray([aa[ii]])), tt_range=int(365*2.2), A0=A0, pred=coxpred[ii, :][None, :], sex=np.asarray([sex[ii]]), full=False)\n",
    "        rr.extend([cif_(0)])\n",
    "    risk.extend(np.asarray(rr).T.tolist())\n",
    "risk = np.asarray(risk)"
   ]
  },
  {
   "cell_type": "code",
   "execution_count": 15,
   "id": "f374e60a-4e6e-4f99-ae69-dc42891f01b8",
   "metadata": {},
   "outputs": [],
   "source": [
    "risk = np.asarray(risk).astype(np.float32)\n",
    "risk.tofile(f'/nfs/research/sds/sds-ukb-cancer/projects/gpt/out/cox.bin')"
   ]
  },
  {
   "cell_type": "code",
   "execution_count": 16,
   "id": "0b17305f-b6d4-48bd-b86a-79896ab10349",
   "metadata": {},
   "outputs": [],
   "source": [
    "exit()"
   ]
  },
  {
   "cell_type": "code",
   "execution_count": null,
   "id": "7d6284ca-95ca-41c0-b170-b69e2d598aef",
   "metadata": {},
   "outputs": [],
   "source": []
  }
 ],
 "metadata": {
  "kernelspec": {
   "display_name": "Python 3",
   "language": "python",
   "name": "python3"
  },
  "language_info": {
   "codemirror_mode": {
    "name": "ipython",
    "version": 3
   },
   "file_extension": ".py",
   "mimetype": "text/x-python",
   "name": "python",
   "nbconvert_exporter": "python",
   "pygments_lexer": "ipython3",
   "version": "3.6.8"
  }
 },
 "nbformat": 4,
 "nbformat_minor": 5
}
