{
 "cells": [
  {
   "cell_type": "code",
   "execution_count": 1,
   "id": "e6c9bf86-7131-45c6-a3fb-5cc7a6fdb072",
   "metadata": {},
   "outputs": [],
   "source": [
    "\"\"\"\n",
    "Sample from a trained model\n",
    "\"\"\"\n",
    "import re\n",
    "from tqdm import tqdm\n",
    "import os\n",
    "import pickle\n",
    "from contextlib import nullcontext\n",
    "import torch\n",
    "#import tiktoken\n",
    "from model_ukb import GPTConfig, GPT\n",
    "import pandas as pd\n",
    "import numpy as np\n",
    "import matplotlib.pyplot as plt\n",
    "from torch.nn import functional as F\n",
    "from sklearn.metrics import roc_auc_score\n",
    "from sklearn.calibration import calibration_curve\n",
    "from torchmetrics import CalibrationError\n",
    "# -----------------------------------------------------------------------------\n",
    "init_from = 'resume' # either 'resume' (from an out_dir) or a gpt2 variant (e.g. 'gpt2-xl')\n",
    "out_dir = 'out-ukb' # ignored if init_from is not 'resume'\n",
    "start = \"\\n\" # or \"<|endoftext|>\" or etc. Can also specify a file, use as: \"FILE:prompt.txt\"\n",
    "num_samples = 10 # number of samples to draw\n",
    "max_new_tokens = 10 # number of tokens generated in each sample\n",
    "temperature = 0.8 # 1.0 = no change, < 1.0 = less random, > 1.0 = more random, in predictions\n",
    "top_k = 200 # retain only the top_k most likely tokens, clamp others to have 0 probability\n",
    "seed = 1337\n",
    "device = 'cpu' # examples: 'cpu', 'cuda', 'cuda:0', 'cuda:1', etc.\n",
    "dtype ='float64'#'bfloat16' # 'float32' or 'bfloat16' or 'float16'\n",
    "compile = False # use PyTorch 2.0 to compile the model to be faster\n",
    "t_min = 100.0\n",
    "#exec(open('configurator.py').read()) # overrides from command line or config file\n",
    "# -----------------------------------------------------------------------------\n",
    "\n",
    "torch.manual_seed(seed)\n",
    "torch.cuda.manual_seed(seed)\n",
    "torch.backends.cuda.matmul.allow_tf32 = True # allow tf32 on matmul\n",
    "torch.backends.cudnn.allow_tf32 = True # allow tf32 on cudnn\n",
    "device_type = 'cpu' #'cuda' if 'cuda' in device else 'cpu' # for later use in torch.autocast\n",
    "ptdtype = {'float32': torch.float32, 'float64': torch.float64, 'bfloat16': torch.bfloat16, 'float16': torch.float16}[dtype]\n",
    "ctx = nullcontext() if device_type == 'cpu' else torch.amp.autocast(device_type=device_type, dtype=ptdtype)\n",
    "\n",
    "load_meta=True\n",
    "meta_path='data/ukb/meta.pkl'\n",
    "\n",
    "%matplotlib inline\n",
    "%config InlineBackend.figure_format='retina'\n",
    "plt.rcParams['figure.facecolor'] = 'white'\n",
    "plt.rcParams.update({'axes.grid': True,\n",
    "                     'grid.linestyle': ':',\n",
    "                     'axes.spines.bottom': False,\n",
    "                     'font.size': 16,\n",
    "          'axes.spines.left': False,\n",
    "          'axes.spines.right': False,\n",
    "          'axes.spines.top': False})\n",
    "plt.rcParams['figure.dpi']=72\n",
    "\n",
    "run=False"
   ]
  },
  {
   "cell_type": "code",
   "execution_count": 2,
   "id": "30b429fb-505d-47b3-8b56-4a2ba6fe7d01",
   "metadata": {},
   "outputs": [
    {
     "data": {
      "text/html": [
       "<div>\n",
       "<style scoped>\n",
       "    .dataframe tbody tr th:only-of-type {\n",
       "        vertical-align: middle;\n",
       "    }\n",
       "\n",
       "    .dataframe tbody tr th {\n",
       "        vertical-align: top;\n",
       "    }\n",
       "\n",
       "    .dataframe thead th {\n",
       "        text-align: right;\n",
       "    }\n",
       "</style>\n",
       "<table border=\"1\" class=\"dataframe\">\n",
       "  <thead>\n",
       "    <tr style=\"text-align: right;\">\n",
       "      <th></th>\n",
       "      <th>0</th>\n",
       "    </tr>\n",
       "  </thead>\n",
       "  <tbody>\n",
       "    <tr>\n",
       "      <th>0</th>\n",
       "      <td>Padding</td>\n",
       "    </tr>\n",
       "    <tr>\n",
       "      <th>1</th>\n",
       "      <td>Healthy</td>\n",
       "    </tr>\n",
       "    <tr>\n",
       "      <th>2</th>\n",
       "      <td>Female</td>\n",
       "    </tr>\n",
       "    <tr>\n",
       "      <th>3</th>\n",
       "      <td>Male</td>\n",
       "    </tr>\n",
       "    <tr>\n",
       "      <th>4</th>\n",
       "      <td>BMI_low</td>\n",
       "    </tr>\n",
       "    <tr>\n",
       "      <th>...</th>\n",
       "      <td>...</td>\n",
       "    </tr>\n",
       "    <tr>\n",
       "      <th>1265</th>\n",
       "      <td>D46 Myelodysplastic syndromes</td>\n",
       "    </tr>\n",
       "    <tr>\n",
       "      <th>1266</th>\n",
       "      <td>D47 Other neoplasms of uncertain or unknown be...</td>\n",
       "    </tr>\n",
       "    <tr>\n",
       "      <th>1267</th>\n",
       "      <td>D48 Neoplasm of uncertain or unknown behaviour...</td>\n",
       "    </tr>\n",
       "    <tr>\n",
       "      <th>1268</th>\n",
       "      <td>O01 Hydatidiform mole38</td>\n",
       "    </tr>\n",
       "    <tr>\n",
       "      <th>1269</th>\n",
       "      <td>Death</td>\n",
       "    </tr>\n",
       "  </tbody>\n",
       "</table>\n",
       "<p>1270 rows × 1 columns</p>\n",
       "</div>"
      ],
      "text/plain": [
       "                                                      0\n",
       "0                                               Padding\n",
       "1                                               Healthy\n",
       "2                                                Female\n",
       "3                                                  Male\n",
       "4                                               BMI_low\n",
       "...                                                 ...\n",
       "1265                      D46 Myelodysplastic syndromes\n",
       "1266  D47 Other neoplasms of uncertain or unknown be...\n",
       "1267  D48 Neoplasm of uncertain or unknown behaviour...\n",
       "1268                            O01 Hydatidiform mole38\n",
       "1269                                              Death\n",
       "\n",
       "[1270 rows x 1 columns]"
      ]
     },
     "execution_count": 2,
     "metadata": {},
     "output_type": "execute_result"
    }
   ],
   "source": [
    "#labels = pd.read_csv(\"data/ukb/fields.txt\", header=None).merge(pd.read_csv(\"data/ukb/icd10_codes_mod.tsv\", sep='\\t',header=None, index_col=0), left_on=0, right_index=True)\n",
    "#labels[1] = labels[1].str.replace(\"Source of report of \",\"\")\n",
    "#train.max(0)\n",
    "labels = pd.read_csv(\"data/ukb/labels.csv\", header=None, sep=\"\\t\")\n",
    "labels_long = np.asarray(labels)[:, 0]\n",
    "labels_short = np.asarray(labels).astype('S3').astype(str)\n",
    "labels"
   ]
  },
  {
   "cell_type": "code",
   "execution_count": 3,
   "id": "59140ea1-1c60-4e26-85ad-687120d5bcf2",
   "metadata": {},
   "outputs": [],
   "source": [
    "def get_p2i(data):\n",
    "    px = data[:,0].astype('int')\n",
    "    pix = sorted(list(set(px)))\n",
    "    #p2i = np.array([(p, (px==p).argmax(), (px==p).sum()) for i,p in enumerate(pix)])\n",
    "    p2i = []\n",
    "    j = 0\n",
    "    q = px[0]\n",
    "    for i,p in enumerate(px):\n",
    "        if p != q:\n",
    "            p2i.append([j,i-j])\n",
    "            q = p\n",
    "            j = i\n",
    "    return np.array(p2i)"
   ]
  },
  {
   "cell_type": "code",
   "execution_count": 4,
   "id": "28b991c6-a589-4c96-be22-98f43ee490aa",
   "metadata": {},
   "outputs": [],
   "source": [
    "train = np.fromfile('/nfs/research/sds/sds-ukb-cancer/projects/gpt/data/pre_wd.bin', dtype=np.uint32).reshape(-1,3)\n",
    "train = np.concatenate((train, np.asarray([[9999999, 0, 0]])))\n",
    "train_p2i = get_p2i(train)\n",
    "train[:, -1] += 1\n",
    "train = train[:-1]"
   ]
  },
  {
   "cell_type": "code",
   "execution_count": 5,
   "id": "12cf88c4-198f-4953-8051-932e3eaff73b",
   "metadata": {},
   "outputs": [
    {
     "name": "stderr",
     "output_type": "stream",
     "text": [
      "100%|████████████████████████████████| 502309/502309 [00:19<00:00, 26321.16it/s]\n"
     ]
    }
   ],
   "source": [
    "age = []\n",
    "sex = []\n",
    "sexext = []\n",
    "for ii in tqdm(range(train_p2i.shape[0])):\n",
    "    x = train[train_p2i[ii, 0]:train_p2i[ii, 0]+train_p2i[ii, 1], 2].astype(int)\n",
    "    a = train[train_p2i[ii, 0]:train_p2i[ii, 0]+train_p2i[ii, 1], 1].astype(np.float32)\n",
    "    age.extend([a.max()])\n",
    "    sex.extend([np.any(x==3).astype(int)])   \n",
    "    sexext.extend([np.repeat(np.any(x==3).astype(int), x.shape[0]).tolist()])   \n",
    "sexext = np.concatenate(sexext)\n",
    "sex = np.asarray(sex).astype(int)\n",
    "age = np.asarray(age)"
   ]
  },
  {
   "cell_type": "code",
   "execution_count": 6,
   "id": "30da2a56-dad9-46c0-b710-4f09bd3c426d",
   "metadata": {},
   "outputs": [],
   "source": [
    "class A0_fun():\n",
    "    def __init__(self, tt, basehaz):\n",
    "        self.tt = tt\n",
    "        self.basehaz = basehaz\n",
    "        \n",
    "    def __call__(self, ii):\n",
    "        if np.sum(ii > self.tt) == 0:\n",
    "            return(0)\n",
    "        elif np.sum(ii > self.tt) <= len(self.tt):\n",
    "            return(self.basehaz[np.sum(ii > self.tt)-1][0])\n",
    "        else:\n",
    "            return(self.basehaz[-1][0])\n",
    "\n",
    "def agesex(jj, X, amax):\n",
    "    idx = X[:, -1]==jj\n",
    "    if idx.sum() > 100:\n",
    "        tt = []\n",
    "        basehaz = []\n",
    "        for aa in np.sort(X[idx, 1]):\n",
    "            tt.extend([aa])\n",
    "            basehaz.extend([1/(aa<=amax).sum()])\n",
    "        tt = np.asarray(tt)\n",
    "        basehaz = np.asarray(basehaz)\n",
    "        delta_time =[]\n",
    "        for ii in np.arange(0, tt.shape[0]-1):\n",
    "            delta_time.append(tt[ii+1] - tt[ii])\n",
    "        delta_time.append(0.1)\n",
    "        delta_time = np.asarray(delta_time)[:, None]\n",
    "        delta_time = np.asarray([np.sum(delta_time[ii==tt], axis=0) for ii in np.unique(tt)])\n",
    "        basehaz = np.asarray([np.sum(basehaz[ii==tt], axis=0) for ii in np.unique(tt)])[:, None]\n",
    "        tt = np.unique(tt)\n",
    "        basehaz = basehaz/delta_time\n",
    "        A0 = A0_fun(tt=tt[:-2], basehaz=basehaz[:-2])\n",
    "        A0_eval = np.asarray([A0(ii) for ii in range(36500)])\n",
    "    else:\n",
    "        A0_eval = np.zeros((36500,))\n",
    "    return(A0_eval)"
   ]
  },
  {
   "cell_type": "code",
   "execution_count": 7,
   "id": "26f8bc5a-9367-4b22-b033-eda6b5cbe99b",
   "metadata": {},
   "outputs": [
    {
     "name": "stderr",
     "output_type": "stream",
     "text": [
      "  7%|██▋                                      | 83/1257 [02:05<29:29,  1.51s/it]\n"
     ]
    },
    {
     "ename": "KeyboardInterrupt",
     "evalue": "",
     "output_type": "error",
     "traceback": [
      "\u001b[0;31m---------------------------------------------------------------------------\u001b[0m",
      "\u001b[0;31mKeyboardInterrupt\u001b[0m                         Traceback (most recent call last)",
      "Cell \u001b[0;32mIn[7], line 3\u001b[0m\n\u001b[1;32m      1\u001b[0m A \u001b[38;5;241m=\u001b[39m []\n\u001b[1;32m      2\u001b[0m \u001b[38;5;28;01mfor\u001b[39;00m jj \u001b[38;5;129;01min\u001b[39;00m tqdm(np\u001b[38;5;241m.\u001b[39marange(\u001b[38;5;241m13\u001b[39m,\u001b[38;5;241m1270\u001b[39m)):\n\u001b[0;32m----> 3\u001b[0m     a \u001b[38;5;241m=\u001b[39m agesex(jj\u001b[38;5;241m=\u001b[39mjj, X\u001b[38;5;241m=\u001b[39mtrain[sexext\u001b[38;5;241m==\u001b[39m\u001b[38;5;241m0\u001b[39m], amax\u001b[38;5;241m=\u001b[39mage[sex\u001b[38;5;241m==\u001b[39m\u001b[38;5;241m0\u001b[39m])\n\u001b[1;32m      4\u001b[0m     b \u001b[38;5;241m=\u001b[39m agesex(jj\u001b[38;5;241m=\u001b[39mjj, X\u001b[38;5;241m=\u001b[39mtrain[sexext\u001b[38;5;241m==\u001b[39m\u001b[38;5;241m1\u001b[39m], amax\u001b[38;5;241m=\u001b[39mage[sex\u001b[38;5;241m==\u001b[39m\u001b[38;5;241m1\u001b[39m])\n\u001b[1;32m      5\u001b[0m     A\u001b[38;5;241m.\u001b[39mextend([[a, b]]) \n",
      "Cell \u001b[0;32mIn[6], line 29\u001b[0m, in \u001b[0;36magesex\u001b[0;34m(jj, X, amax)\u001b[0m\n\u001b[1;32m     27\u001b[0m delta_time\u001b[38;5;241m.\u001b[39mappend(\u001b[38;5;241m0.1\u001b[39m)\n\u001b[1;32m     28\u001b[0m delta_time \u001b[38;5;241m=\u001b[39m np\u001b[38;5;241m.\u001b[39masarray(delta_time)[:, \u001b[38;5;28;01mNone\u001b[39;00m]\n\u001b[0;32m---> 29\u001b[0m delta_time \u001b[38;5;241m=\u001b[39m np\u001b[38;5;241m.\u001b[39masarray([np\u001b[38;5;241m.\u001b[39msum(delta_time[ii\u001b[38;5;241m==\u001b[39mtt], axis\u001b[38;5;241m=\u001b[39m\u001b[38;5;241m0\u001b[39m) \u001b[38;5;28;01mfor\u001b[39;00m ii \u001b[38;5;129;01min\u001b[39;00m np\u001b[38;5;241m.\u001b[39munique(tt)])\n\u001b[1;32m     30\u001b[0m basehaz \u001b[38;5;241m=\u001b[39m np\u001b[38;5;241m.\u001b[39masarray([np\u001b[38;5;241m.\u001b[39msum(basehaz[ii\u001b[38;5;241m==\u001b[39mtt], axis\u001b[38;5;241m=\u001b[39m\u001b[38;5;241m0\u001b[39m) \u001b[38;5;28;01mfor\u001b[39;00m ii \u001b[38;5;129;01min\u001b[39;00m np\u001b[38;5;241m.\u001b[39munique(tt)])[:, \u001b[38;5;28;01mNone\u001b[39;00m]\n\u001b[1;32m     31\u001b[0m tt \u001b[38;5;241m=\u001b[39m np\u001b[38;5;241m.\u001b[39munique(tt)\n",
      "Cell \u001b[0;32mIn[6], line 29\u001b[0m, in \u001b[0;36m<listcomp>\u001b[0;34m(.0)\u001b[0m\n\u001b[1;32m     27\u001b[0m delta_time\u001b[38;5;241m.\u001b[39mappend(\u001b[38;5;241m0.1\u001b[39m)\n\u001b[1;32m     28\u001b[0m delta_time \u001b[38;5;241m=\u001b[39m np\u001b[38;5;241m.\u001b[39masarray(delta_time)[:, \u001b[38;5;28;01mNone\u001b[39;00m]\n\u001b[0;32m---> 29\u001b[0m delta_time \u001b[38;5;241m=\u001b[39m np\u001b[38;5;241m.\u001b[39masarray([np\u001b[38;5;241m.\u001b[39msum(delta_time[ii\u001b[38;5;241m==\u001b[39mtt], axis\u001b[38;5;241m=\u001b[39m\u001b[38;5;241m0\u001b[39m) \u001b[38;5;28;01mfor\u001b[39;00m ii \u001b[38;5;129;01min\u001b[39;00m np\u001b[38;5;241m.\u001b[39munique(tt)])\n\u001b[1;32m     30\u001b[0m basehaz \u001b[38;5;241m=\u001b[39m np\u001b[38;5;241m.\u001b[39masarray([np\u001b[38;5;241m.\u001b[39msum(basehaz[ii\u001b[38;5;241m==\u001b[39mtt], axis\u001b[38;5;241m=\u001b[39m\u001b[38;5;241m0\u001b[39m) \u001b[38;5;28;01mfor\u001b[39;00m ii \u001b[38;5;129;01min\u001b[39;00m np\u001b[38;5;241m.\u001b[39munique(tt)])[:, \u001b[38;5;28;01mNone\u001b[39;00m]\n\u001b[1;32m     31\u001b[0m tt \u001b[38;5;241m=\u001b[39m np\u001b[38;5;241m.\u001b[39munique(tt)\n",
      "File \u001b[0;32m/nfs/research/sds/sds-ukb-cancer/soft/conda/envs/gpt/lib/python3.11/site-packages/numpy/core/fromnumeric.py:2172\u001b[0m, in \u001b[0;36m_sum_dispatcher\u001b[0;34m(a, axis, dtype, out, keepdims, initial, where)\u001b[0m\n\u001b[1;32m   2102\u001b[0m \u001b[38;5;250m    \u001b[39m\u001b[38;5;124;03m\"\"\"\u001b[39;00m\n\u001b[1;32m   2103\u001b[0m \u001b[38;5;124;03m    Clip (limit) the values in an array.\u001b[39;00m\n\u001b[1;32m   2104\u001b[0m \n\u001b[0;32m   (...)\u001b[0m\n\u001b[1;32m   2167\u001b[0m \n\u001b[1;32m   2168\u001b[0m \u001b[38;5;124;03m    \"\"\"\u001b[39;00m\n\u001b[1;32m   2169\u001b[0m     \u001b[38;5;28;01mreturn\u001b[39;00m _wrapfunc(a, \u001b[38;5;124m'\u001b[39m\u001b[38;5;124mclip\u001b[39m\u001b[38;5;124m'\u001b[39m, a_min, a_max, out\u001b[38;5;241m=\u001b[39mout, \u001b[38;5;241m*\u001b[39m\u001b[38;5;241m*\u001b[39mkwargs)\n\u001b[0;32m-> 2172\u001b[0m \u001b[38;5;28;01mdef\u001b[39;00m \u001b[38;5;21m_sum_dispatcher\u001b[39m(a, axis\u001b[38;5;241m=\u001b[39m\u001b[38;5;28;01mNone\u001b[39;00m, dtype\u001b[38;5;241m=\u001b[39m\u001b[38;5;28;01mNone\u001b[39;00m, out\u001b[38;5;241m=\u001b[39m\u001b[38;5;28;01mNone\u001b[39;00m, keepdims\u001b[38;5;241m=\u001b[39m\u001b[38;5;28;01mNone\u001b[39;00m,\n\u001b[1;32m   2173\u001b[0m                     initial\u001b[38;5;241m=\u001b[39m\u001b[38;5;28;01mNone\u001b[39;00m, where\u001b[38;5;241m=\u001b[39m\u001b[38;5;28;01mNone\u001b[39;00m):\n\u001b[1;32m   2174\u001b[0m     \u001b[38;5;28;01mreturn\u001b[39;00m (a, out)\n\u001b[1;32m   2177\u001b[0m \u001b[38;5;129m@array_function_dispatch\u001b[39m(_sum_dispatcher)\n\u001b[1;32m   2178\u001b[0m \u001b[38;5;28;01mdef\u001b[39;00m \u001b[38;5;21msum\u001b[39m(a, axis\u001b[38;5;241m=\u001b[39m\u001b[38;5;28;01mNone\u001b[39;00m, dtype\u001b[38;5;241m=\u001b[39m\u001b[38;5;28;01mNone\u001b[39;00m, out\u001b[38;5;241m=\u001b[39m\u001b[38;5;28;01mNone\u001b[39;00m, keepdims\u001b[38;5;241m=\u001b[39mnp\u001b[38;5;241m.\u001b[39m_NoValue,\n\u001b[1;32m   2179\u001b[0m         initial\u001b[38;5;241m=\u001b[39mnp\u001b[38;5;241m.\u001b[39m_NoValue, where\u001b[38;5;241m=\u001b[39mnp\u001b[38;5;241m.\u001b[39m_NoValue):\n",
      "\u001b[0;31mKeyboardInterrupt\u001b[0m: "
     ]
    }
   ],
   "source": [
    "A = []\n",
    "for jj in tqdm(np.arange(13,1270)):\n",
    "    a = agesex(jj=jj, X=train[sexext==0], amax=age[sex==0])\n",
    "    b = agesex(jj=jj, X=train[sexext==1], amax=age[sex==1])\n",
    "    A.extend([[a, b]]) \n",
    "A = np.stack((A)).astype(np.float32)"
   ]
  },
  {
   "cell_type": "code",
   "execution_count": null,
   "id": "31d5ae41-d3b5-42c3-bce8-133788233db0",
   "metadata": {},
   "outputs": [],
   "source": [
    "pre = np.fromfile('/nfs/research/sds/sds-ukb-cancer/projects/gpt/data/pre.bin', dtype=np.uint32).reshape(-1,3)\n",
    "pre_p2i = get_p2i(pre)\n",
    "pre[:, -1] += 1"
   ]
  },
  {
   "cell_type": "code",
   "execution_count": null,
   "id": "570e485b-56ce-4773-9646-93e26f4c95ca",
   "metadata": {},
   "outputs": [],
   "source": [
    "# get age and sex\n",
    "age = []\n",
    "sex = []\n",
    "for ii in tqdm(range(pre_p2i.shape[0])):\n",
    "    x = pre[pre_p2i[ii, 0]:pre_p2i[ii, 0]+pre_p2i[ii, 1], 2].astype(int)\n",
    "    a = pre[pre_p2i[ii, 0]:pre_p2i[ii, 0]+pre_p2i[ii, 1], 1].astype(np.float32)\n",
    "    assert np.logical_or(np.any(x==2), np.any(x==3))\n",
    "    sex.extend([np.any(x==3).astype(int)])   \n",
    "    age.extend([a[-1]])\n",
    "sex = np.asarray(sex).astype(int)\n",
    "age = np.asarray(age).astype(int)"
   ]
  },
  {
   "cell_type": "code",
   "execution_count": null,
   "id": "db01426d-b83c-4764-808d-d143a10c87da",
   "metadata": {},
   "outputs": [],
   "source": [
    "baserate = []\n",
    "for ii in tqdm(range(pre_p2i.shape[0])):\n",
    "    br = A[:, sex[ii], age[ii]:age[ii]+900].sum(axis=1)\n",
    "    br = 1-np.exp(-br)\n",
    "    baserate.extend([br.tolist()])\n",
    "\n",
    "\n",
    "baserate = np.asarray(baserate).astype(np.float32)\n"
   ]
  },
  {
   "cell_type": "code",
   "execution_count": null,
   "id": "bffb2647-6f7f-47cb-86eb-44501d44de63",
   "metadata": {},
   "outputs": [],
   "source": [
    "baserate.tofile(f'/nfs/research/sds/sds-ukb-cancer/projects/gpt/out/baserate.bin')"
   ]
  },
  {
   "cell_type": "code",
   "execution_count": null,
   "id": "7b402c04-ab64-4e63-a90b-76f31494abae",
   "metadata": {},
   "outputs": [],
   "source": []
  },
  {
   "cell_type": "code",
   "execution_count": null,
   "id": "9b6aa1b3-c0b8-43d8-b6c1-b18c2e32ecc9",
   "metadata": {},
   "outputs": [],
   "source": []
  },
  {
   "cell_type": "code",
   "execution_count": null,
   "id": "03ec9db0-b66d-40a4-8346-745eef3e87ce",
   "metadata": {},
   "outputs": [],
   "source": []
  },
  {
   "cell_type": "code",
   "execution_count": null,
   "id": "f6b910c1-f73a-474d-8104-0b8074907a9f",
   "metadata": {},
   "outputs": [],
   "source": []
  },
  {
   "cell_type": "code",
   "execution_count": null,
   "id": "00b2526e-351c-457d-bbd5-05a0c941fdef",
   "metadata": {},
   "outputs": [],
   "source": []
  },
  {
   "cell_type": "code",
   "execution_count": null,
   "id": "a07993f4-094a-447f-a460-040e038bb941",
   "metadata": {},
   "outputs": [],
   "source": []
  },
  {
   "cell_type": "code",
   "execution_count": null,
   "id": "f152e8bf-c52b-4aee-ad5b-404932ba0478",
   "metadata": {},
   "outputs": [],
   "source": []
  },
  {
   "cell_type": "code",
   "execution_count": null,
   "id": "4ea1312a-4944-4d71-b3d2-cd708ae47673",
   "metadata": {},
   "outputs": [],
   "source": []
  },
  {
   "cell_type": "code",
   "execution_count": null,
   "id": "5449fe8f-5dd6-4f91-a10b-37962f1fd690",
   "metadata": {},
   "outputs": [],
   "source": []
  },
  {
   "cell_type": "code",
   "execution_count": null,
   "id": "294e5072-5946-46ad-869f-25d9dff94eb1",
   "metadata": {},
   "outputs": [],
   "source": []
  }
 ],
 "metadata": {
  "kernelspec": {
   "display_name": "Python 3 (ipykernel)",
   "language": "python",
   "name": "python3"
  },
  "language_info": {
   "codemirror_mode": {
    "name": "ipython",
    "version": 3
   },
   "file_extension": ".py",
   "mimetype": "text/x-python",
   "name": "python",
   "nbconvert_exporter": "python",
   "pygments_lexer": "ipython3",
   "version": "3.11.5"
  }
 },
 "nbformat": 4,
 "nbformat_minor": 5
}
